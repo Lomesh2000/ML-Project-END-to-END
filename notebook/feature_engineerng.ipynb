{
 "cells": [
  {
   "cell_type": "code",
   "execution_count": 1,
   "metadata": {},
   "outputs": [],
   "source": [
    "import pandas as pd\n",
    "import numpy as np\n",
    "import matplotlib.pyplot as plt\n",
    "import seaborn as sns\n",
    "import warnings\n",
    "warnings.filterwarnings('ignore')\n"
   ]
  },
  {
   "cell_type": "code",
   "execution_count": 2,
   "metadata": {},
   "outputs": [],
   "source": [
    "data = pd.read_csv('EasyVisa.csv')"
   ]
  },
  {
   "cell_type": "code",
   "execution_count": 3,
   "metadata": {},
   "outputs": [
    {
     "data": {
      "text/html": [
       "<div>\n",
       "<style scoped>\n",
       "    .dataframe tbody tr th:only-of-type {\n",
       "        vertical-align: middle;\n",
       "    }\n",
       "\n",
       "    .dataframe tbody tr th {\n",
       "        vertical-align: top;\n",
       "    }\n",
       "\n",
       "    .dataframe thead th {\n",
       "        text-align: right;\n",
       "    }\n",
       "</style>\n",
       "<table border=\"1\" class=\"dataframe\">\n",
       "  <thead>\n",
       "    <tr style=\"text-align: right;\">\n",
       "      <th></th>\n",
       "      <th>case_id</th>\n",
       "      <th>continent</th>\n",
       "      <th>education_of_employee</th>\n",
       "      <th>has_job_experience</th>\n",
       "      <th>requires_job_training</th>\n",
       "      <th>no_of_employees</th>\n",
       "      <th>yr_of_estab</th>\n",
       "      <th>region_of_employment</th>\n",
       "      <th>prevailing_wage</th>\n",
       "      <th>unit_of_wage</th>\n",
       "      <th>full_time_position</th>\n",
       "      <th>case_status</th>\n",
       "    </tr>\n",
       "  </thead>\n",
       "  <tbody>\n",
       "    <tr>\n",
       "      <th>0</th>\n",
       "      <td>EZYV01</td>\n",
       "      <td>Asia</td>\n",
       "      <td>High School</td>\n",
       "      <td>N</td>\n",
       "      <td>N</td>\n",
       "      <td>14513</td>\n",
       "      <td>2007</td>\n",
       "      <td>West</td>\n",
       "      <td>592.2029</td>\n",
       "      <td>Hour</td>\n",
       "      <td>Y</td>\n",
       "      <td>Denied</td>\n",
       "    </tr>\n",
       "    <tr>\n",
       "      <th>1</th>\n",
       "      <td>EZYV02</td>\n",
       "      <td>Asia</td>\n",
       "      <td>Master's</td>\n",
       "      <td>Y</td>\n",
       "      <td>N</td>\n",
       "      <td>2412</td>\n",
       "      <td>2002</td>\n",
       "      <td>Northeast</td>\n",
       "      <td>83425.6500</td>\n",
       "      <td>Year</td>\n",
       "      <td>Y</td>\n",
       "      <td>Certified</td>\n",
       "    </tr>\n",
       "    <tr>\n",
       "      <th>2</th>\n",
       "      <td>EZYV03</td>\n",
       "      <td>Asia</td>\n",
       "      <td>Bachelor's</td>\n",
       "      <td>N</td>\n",
       "      <td>Y</td>\n",
       "      <td>44444</td>\n",
       "      <td>2008</td>\n",
       "      <td>West</td>\n",
       "      <td>122996.8600</td>\n",
       "      <td>Year</td>\n",
       "      <td>Y</td>\n",
       "      <td>Denied</td>\n",
       "    </tr>\n",
       "    <tr>\n",
       "      <th>3</th>\n",
       "      <td>EZYV04</td>\n",
       "      <td>Asia</td>\n",
       "      <td>Bachelor's</td>\n",
       "      <td>N</td>\n",
       "      <td>N</td>\n",
       "      <td>98</td>\n",
       "      <td>1897</td>\n",
       "      <td>West</td>\n",
       "      <td>83434.0300</td>\n",
       "      <td>Year</td>\n",
       "      <td>Y</td>\n",
       "      <td>Denied</td>\n",
       "    </tr>\n",
       "    <tr>\n",
       "      <th>4</th>\n",
       "      <td>EZYV05</td>\n",
       "      <td>Africa</td>\n",
       "      <td>Master's</td>\n",
       "      <td>Y</td>\n",
       "      <td>N</td>\n",
       "      <td>1082</td>\n",
       "      <td>2005</td>\n",
       "      <td>South</td>\n",
       "      <td>149907.3900</td>\n",
       "      <td>Year</td>\n",
       "      <td>Y</td>\n",
       "      <td>Certified</td>\n",
       "    </tr>\n",
       "  </tbody>\n",
       "</table>\n",
       "</div>"
      ],
      "text/plain": [
       "  case_id continent education_of_employee has_job_experience  \\\n",
       "0  EZYV01      Asia           High School                  N   \n",
       "1  EZYV02      Asia              Master's                  Y   \n",
       "2  EZYV03      Asia            Bachelor's                  N   \n",
       "3  EZYV04      Asia            Bachelor's                  N   \n",
       "4  EZYV05    Africa              Master's                  Y   \n",
       "\n",
       "  requires_job_training  no_of_employees  yr_of_estab region_of_employment  \\\n",
       "0                     N            14513         2007                 West   \n",
       "1                     N             2412         2002            Northeast   \n",
       "2                     Y            44444         2008                 West   \n",
       "3                     N               98         1897                 West   \n",
       "4                     N             1082         2005                South   \n",
       "\n",
       "   prevailing_wage unit_of_wage full_time_position case_status  \n",
       "0         592.2029         Hour                  Y      Denied  \n",
       "1       83425.6500         Year                  Y   Certified  \n",
       "2      122996.8600         Year                  Y      Denied  \n",
       "3       83434.0300         Year                  Y      Denied  \n",
       "4      149907.3900         Year                  Y   Certified  "
      ]
     },
     "execution_count": 3,
     "metadata": {},
     "output_type": "execute_result"
    }
   ],
   "source": [
    "data.head()"
   ]
  },
  {
   "cell_type": "markdown",
   "metadata": {},
   "source": [
    "## Null values"
   ]
  },
  {
   "cell_type": "markdown",
   "metadata": {},
   "source": [
    "```\n",
    "There are no null values\n",
    "```"
   ]
  },
  {
   "cell_type": "code",
   "execution_count": 5,
   "metadata": {},
   "outputs": [
    {
     "data": {
      "text/plain": [
       "case_id                  0\n",
       "continent                0\n",
       "education_of_employee    0\n",
       "has_job_experience       0\n",
       "requires_job_training    0\n",
       "no_of_employees          0\n",
       "yr_of_estab              0\n",
       "region_of_employment     0\n",
       "prevailing_wage          0\n",
       "unit_of_wage             0\n",
       "full_time_position       0\n",
       "case_status              0\n",
       "dtype: int64"
      ]
     },
     "execution_count": 5,
     "metadata": {},
     "output_type": "execute_result"
    }
   ],
   "source": [
    "data.isnull().sum()"
   ]
  },
  {
   "cell_type": "markdown",
   "metadata": {},
   "source": [
    "### creating company age column"
   ]
  },
  {
   "cell_type": "code",
   "execution_count": 25,
   "metadata": {},
   "outputs": [],
   "source": [
    "from datetime import datetime\n",
    "\n",
    "today_year = datetime.today().year\n",
    "data['company_age'] = today_year - data['yr_of_estab']"
   ]
  },
  {
   "cell_type": "code",
   "execution_count": 26,
   "metadata": {},
   "outputs": [
    {
     "data": {
      "text/plain": [
       "0         17\n",
       "1         22\n",
       "2         16\n",
       "3        127\n",
       "4         19\n",
       "        ... \n",
       "25475     16\n",
       "25476     18\n",
       "25477    114\n",
       "25478    137\n",
       "25479     64\n",
       "Name: company_age, Length: 25480, dtype: int64"
      ]
     },
     "execution_count": 26,
     "metadata": {},
     "output_type": "execute_result"
    }
   ],
   "source": [
    "data.drop(columns='yr_of_estab', inplace=True)\n",
    "data['company_age']"
   ]
  },
  {
   "cell_type": "markdown",
   "metadata": {},
   "source": [
    "### TYpes of features\n"
   ]
  },
  {
   "cell_type": "code",
   "execution_count": 27,
   "metadata": {},
   "outputs": [
    {
     "data": {
      "text/plain": [
       "['no_of_employees', 'prevailing_wage', 'company_age']"
      ]
     },
     "execution_count": 27,
     "metadata": {},
     "output_type": "execute_result"
    }
   ],
   "source": [
    "num_features = [feature for feature in data.columns if data[feature].dtype != 'O']\n",
    "num_features"
   ]
  },
  {
   "cell_type": "code",
   "execution_count": 28,
   "metadata": {},
   "outputs": [
    {
     "data": {
      "text/plain": [
       "['continent',\n",
       " 'education_of_employee',\n",
       " 'has_job_experience',\n",
       " 'requires_job_training',\n",
       " 'region_of_employment',\n",
       " 'unit_of_wage',\n",
       " 'full_time_position',\n",
       " 'case_status']"
      ]
     },
     "execution_count": 28,
     "metadata": {},
     "output_type": "execute_result"
    }
   ],
   "source": [
    "cat_features = [feature for feature in data.columns if data[feature].dtype == 'O'][1:]\n",
    "cat_features"
   ]
  },
  {
   "cell_type": "markdown",
   "metadata": {},
   "source": [
    "#### `discrete features` & `continous features`"
   ]
  },
  {
   "cell_type": "code",
   "execution_count": 29,
   "metadata": {},
   "outputs": [
    {
     "name": "stdout",
     "output_type": "stream",
     "text": [
      "[]\n",
      "['no_of_employees', 'prevailing_wage']\n"
     ]
    }
   ],
   "source": [
    "discrete_features = [feature for feature in num_features[:-1] if data[feature].nunique() <=25]\n",
    "continous_features = [feature for feature in num_features[:-1] if data[feature].nunique() >=25]\n",
    "print(discrete_features)\n",
    "print(continous_features)"
   ]
  },
  {
   "cell_type": "markdown",
   "metadata": {},
   "source": [
    "### `splitting into X & y`"
   ]
  },
  {
   "cell_type": "code",
   "execution_count": 30,
   "metadata": {},
   "outputs": [],
   "source": [
    "X = data.drop('case_status', axis=1)\n",
    "y = data['case_status']"
   ]
  },
  {
   "cell_type": "code",
   "execution_count": 31,
   "metadata": {},
   "outputs": [],
   "source": [
    "y = np.where(y=='Denied', 1, 0)"
   ]
  },
  {
   "cell_type": "code",
   "execution_count": 32,
   "metadata": {},
   "outputs": [
    {
     "data": {
      "text/plain": [
       "['no_of_employees', 'prevailing_wage', 'company_age']"
      ]
     },
     "execution_count": 32,
     "metadata": {},
     "output_type": "execute_result"
    }
   ],
   "source": [
    "num_features"
   ]
  },
  {
   "cell_type": "markdown",
   "metadata": {},
   "source": [
    "### HAndling skewness & kurtosis"
   ]
  },
  {
   "cell_type": "markdown",
   "metadata": {},
   "source": [
    "```\n",
    "no of employees column is highly skewed with value as 206\n",
    "company_age is also skewed\n",
    "prevailing wage is under control\n",
    "```\n",
    "```\n",
    "ao we will perform power transofrmation (named yeo-johnson method which works on both positive and negative vaues includign zero, boxcox tranformation can only handle positive values) on above two columns to reduce skewness\n",
    "we will not take prevailng_wage as it is somewaht normally distributed\n",
    "```"
   ]
  },
  {
   "cell_type": "code",
   "execution_count": 46,
   "metadata": {},
   "outputs": [
    {
     "data": {
      "text/plain": [
       "no_of_employees    12.265260\n",
       "prevailing_wage     0.755776\n",
       "company_age         2.037301\n",
       "dtype: float64"
      ]
     },
     "execution_count": 46,
     "metadata": {},
     "output_type": "execute_result"
    }
   ],
   "source": [
    "data[num_features].skew(axis=0, skipna=True)"
   ]
  },
  {
   "cell_type": "markdown",
   "metadata": {},
   "source": [
    "```\n",
    "kurtossis value is also high for no_of_employees and company_age col\n",
    "```"
   ]
  },
  {
   "cell_type": "code",
   "execution_count": 47,
   "metadata": {},
   "outputs": [
    {
     "data": {
      "text/plain": [
       "no_of_employees    206.335020\n",
       "prevailing_wage      0.824274\n",
       "company_age          3.506957\n",
       "dtype: float64"
      ]
     },
     "execution_count": 47,
     "metadata": {},
     "output_type": "execute_result"
    }
   ],
   "source": [
    "data[num_features].kurtosis(axis=0, skipna=True)"
   ]
  },
  {
   "cell_type": "code",
   "execution_count": 33,
   "metadata": {},
   "outputs": [
    {
     "data": {
      "image/png": "[encoded data removed]",
      "text/plain": [
       "<Figure size 640x480 with 3 Axes>"
      ]
     },
     "metadata": {},
     "output_type": "display_data"
    }
   ],
   "source": [
    "# num_features.remove('yr_of_estab')\n",
    "for i, col in enumerate(num_features):\n",
    "    plt.subplot(2, 2, i+1)\n",
    "    sns.histplot(data[col])\n",
    "    plt.xlabel(col)\n",
    "    plt.tight_layout()"
   ]
  },
  {
   "cell_type": "code",
   "execution_count": 34,
   "metadata": {},
   "outputs": [
    {
     "data": {
      "text/plain": [
       "no_of_employees    12.265260\n",
       "prevailing_wage     0.755776\n",
       "dtype: float64"
      ]
     },
     "execution_count": 34,
     "metadata": {},
     "output_type": "execute_result"
    }
   ],
   "source": [
    "X[continous_features].skew(axis=0, skipna=True)"
   ]
  },
  {
   "cell_type": "markdown",
   "metadata": {},
   "source": [
    "```\n",
    "transforming the columns and reducing kurtosis\n",
    "```"
   ]
  },
  {
   "cell_type": "code",
   "execution_count": 35,
   "metadata": {},
   "outputs": [],
   "source": [
    "from sklearn.preprocessing import PowerTransformer\n",
    "pt = PowerTransformer(method='yeo-johnson')\n",
    "transformer_features = ['no_of_employees',  'company_age']\n",
    "X_copy = pt.fit_transform(X[transformer_features])"
   ]
  },
  {
   "cell_type": "code",
   "execution_count": 39,
   "metadata": {},
   "outputs": [
    {
     "data": {
      "image/png": "[encoded data removed]",
      "text/plain": [
       "<Figure size 640x480 with 2 Axes>"
      ]
     },
     "metadata": {},
     "output_type": "display_data"
    }
   ],
   "source": [
    "X_copy = pd.DataFrame(X_copy, columns=transformer_features)\n",
    "for i, col in enumerate(transformer_features):\n",
    "    plt.subplot(2, 2, i+1)\n",
    "    sns.histplot(X_copy[col])\n",
    "    plt.xlabel(col)\n",
    "    plt.tight_layout()"
   ]
  },
  {
   "cell_type": "markdown",
   "metadata": {},
   "source": [
    "#### columns after applying transformation"
   ]
  },
  {
   "cell_type": "code",
   "execution_count": 41,
   "metadata": {},
   "outputs": [
    {
     "data": {
      "text/plain": [
       "no_of_employees    0.399339\n",
       "company_age        0.103264\n",
       "dtype: float64"
      ]
     },
     "execution_count": 41,
     "metadata": {},
     "output_type": "execute_result"
    }
   ],
   "source": [
    "X_copy.skew(axis=0, skipna=True)\n"
   ]
  },
  {
   "cell_type": "code",
   "execution_count": 42,
   "metadata": {},
   "outputs": [
    {
     "data": {
      "text/plain": [
       "no_of_employees    35.701547\n",
       "company_age        -0.652146\n",
       "dtype: float64"
      ]
     },
     "execution_count": 42,
     "metadata": {},
     "output_type": "execute_result"
    }
   ],
   "source": [
    "X_copy.kurtosis(axis=0, skipna=True)"
   ]
  },
  {
   "cell_type": "code",
   "execution_count": 54,
   "metadata": {},
   "outputs": [
    {
     "data": {
      "text/plain": [
       "no_of_employees    35.701547\n",
       "dtype: float64"
      ]
     },
     "execution_count": 54,
     "metadata": {},
     "output_type": "execute_result"
    }
   ],
   "source": [
    "from sklearn.preprocessing import PowerTransformer\n",
    "new = PowerTransformer(method='yeo-johnson')\n",
    "transformer_features = ['no_of_employees']\n",
    "nenew = new.fit_transform(X[transformer_features])\n",
    "nenew = pd.DataFrame(nenew, columns=transformer_features)\n",
    "nenew.kurtosis(axis=0)"
   ]
  },
  {
   "cell_type": "code",
   "execution_count": 51,
   "metadata": {},
   "outputs": [
    {
     "data": {
      "text/plain": [
       "<Axes: xlabel='no_of_employees', ylabel='Count'>"
      ]
     },
     "execution_count": 51,
     "metadata": {},
     "output_type": "execute_result"
    },
    {
     "data": {
      "image/png": "[encoded data removed]",
      "text/plain": [
       "<Figure size 640x480 with 1 Axes>"
      ]
     },
     "metadata": {},
     "output_type": "display_data"
    }
   ],
   "source": [
    "sns.histplot(nenew['no_of_employees'])"
   ]
  },
  {
   "cell_type": "markdown",
   "metadata": {},
   "source": [
    "```PIPELINE AND COLUMN TRANSFORMER```"
   ]
  },
  {
   "cell_type": "code",
   "execution_count": 52,
   "metadata": {},
   "outputs": [],
   "source": [
    "from sklearn.compose import ColumnTransformer\n",
    "from sklearn.pipeline import Pipeline"
   ]
  },
  {
   "cell_type": "code",
   "execution_count": 53,
   "metadata": {},
   "outputs": [
    {
     "data": {
      "text/plain": [
       "array([35.69430654])"
      ]
     },
     "execution_count": 53,
     "metadata": {},
     "output_type": "execute_result"
    }
   ],
   "source": [
    "from scipy.stats import kurtosis\n",
    "kurtosis(nenew)"
   ]
  },
  {
   "cell_type": "code",
   "execution_count": 55,
   "metadata": {},
   "outputs": [
    {
     "data": {
      "text/plain": [
       "Index(['case_id', 'continent', 'education_of_employee', 'has_job_experience',\n",
       "       'requires_job_training', 'no_of_employees', 'region_of_employment',\n",
       "       'prevailing_wage', 'unit_of_wage', 'full_time_position', 'case_status',\n",
       "       'company_age'],\n",
       "      dtype='object')"
      ]
     },
     "execution_count": 55,
     "metadata": {},
     "output_type": "execute_result"
    }
   ],
   "source": [
    "data.columns"
   ]
  },
  {
   "cell_type": "code",
   "execution_count": 56,
   "metadata": {},
   "outputs": [
    {
     "data": {
      "text/plain": [
       "2"
      ]
     },
     "execution_count": 56,
     "metadata": {},
     "output_type": "execute_result"
    }
   ],
   "source": [
    "data['full_time_position'].nunique()"
   ]
  },
  {
   "cell_type": "code",
   "execution_count": 74,
   "metadata": {},
   "outputs": [],
   "source": [
    "ordinal_columns = [feature for feature in X.columns if X[feature].nunique()==2]\n",
    "one_hot_encoder_columns = [feature for feature in data.columns if data[feature].nunique()>2 and data[feature].nunique()<20]\n",
    "transformer_columns = transformer_features"
   ]
  },
  {
   "cell_type": "code",
   "execution_count": 75,
   "metadata": {},
   "outputs": [
    {
     "name": "stdout",
     "output_type": "stream",
     "text": [
      "ordinal_columns: ['has_job_experience', 'requires_job_training', 'full_time_position']\n",
      "one_hot_encoder_columns: ['continent', 'education_of_employee', 'region_of_employment', 'unit_of_wage']\n",
      "transformer_columns: ['no_of_employees', 'company_age']\n"
     ]
    }
   ],
   "source": [
    "print(f'ordinal_columns: {ordinal_columns}')\n",
    "print(f'one_hot_encoder_columns: {one_hot_encoder_columns}' )\n",
    "print(f'transformer_columns: {['no_of_employees', 'company_age']}')"
   ]
  },
  {
   "cell_type": "code",
   "execution_count": 65,
   "metadata": {},
   "outputs": [
    {
     "data": {
      "text/plain": [
       "['no_of_employees']"
      ]
     },
     "execution_count": 65,
     "metadata": {},
     "output_type": "execute_result"
    }
   ],
   "source": []
  },
  {
   "cell_type": "code",
   "execution_count": 67,
   "metadata": {},
   "outputs": [
    {
     "data": {
      "text/plain": [
       "['no_of_employees', 'prevailing_wage', 'company_age']"
      ]
     },
     "execution_count": 67,
     "metadata": {},
     "output_type": "execute_result"
    }
   ],
   "source": [
    "num_features"
   ]
  },
  {
   "cell_type": "code",
   "execution_count": 76,
   "metadata": {},
   "outputs": [],
   "source": [
    "from sklearn.compose import ColumnTransformer\n",
    "from sklearn.pipeline import Pipeline\n",
    "from sklearn.preprocessing import StandardScaler, OneHotEncoder, OrdinalEncoder\n",
    "\n",
    "numeric_transformer = StandardScaler()\n",
    "oh_encoder = OneHotEncoder()\n",
    "ordinal_encoder = OrdinalEncoder()\n",
    "\n",
    "transformer_pipeline = Pipeline(steps=[('transformer', PowerTransformer(method='yeo-johnson'))])\n",
    "\n",
    "preprocessor = ColumnTransformer(\n",
    "                [\n",
    "                    ('onehotencoder', oh_encoder, one_hot_encoder_columns),\n",
    "                    ('ordinal_encoder', ordinal_encoder, ordinal_columns),\n",
    "                    ('transformer', transformer_pipeline, transformer_columns),\n",
    "                    ('standard_scaler', numeric_transformer, num_features)\n",
    "                ]\n",
    "            )"
   ]
  },
  {
   "cell_type": "code",
   "execution_count": 77,
   "metadata": {},
   "outputs": [],
   "source": [
    "X = preprocessor.fit_transform(X)"
   ]
  },
  {
   "cell_type": "code",
   "execution_count": 78,
   "metadata": {},
   "outputs": [
    {
     "data": {
      "text/plain": [
       "array([[ 0.        ,  1.        ,  0.        , ...,  0.38666657,\n",
       "        -1.39853722, -0.65122993],\n",
       "       [ 0.        ,  1.        ,  0.        , ..., -0.14228155,\n",
       "         0.1698353 , -0.53321103],\n",
       "       [ 0.        ,  1.        ,  0.        , ...,  1.69498375,\n",
       "         0.91907852, -0.6748337 ],\n",
       "       ...,\n",
       "       [ 0.        ,  1.        ,  0.        , ..., -0.19871259,\n",
       "         1.36027953,  1.63833662],\n",
       "       [ 0.        ,  1.        ,  0.        , ..., -0.16387483,\n",
       "         0.22150859,  2.18122353],\n",
       "       [ 0.        ,  1.        ,  0.        , ..., -0.10805575,\n",
       "        -0.06776315,  0.45814768]])"
      ]
     },
     "execution_count": 78,
     "metadata": {},
     "output_type": "execute_result"
    }
   ],
   "source": [
    "X"
   ]
  },
  {
   "cell_type": "markdown",
   "metadata": {},
   "source": []
  },
  {
   "cell_type": "markdown",
   "metadata": {},
   "source": [
    "## IMbalance data set \n",
    "### Technique to hadle imbalance\n",
    "    1) down sampling of majority\n",
    "    2) over sampling of minority\n",
    "    3) over sampling using smote - oversampling by creating synthetic samples using KNN \n",
    "    4) enesmble method (if there are 3:1 ratio then take three models 1:1, 1:1, 1:1)\n",
    "    5) Focal loss - penalise majority samples during loss calculation and give more weight to minority class  samples\n",
    "smote technique\n"
   ]
  },
  {
   "cell_type": "code",
   "execution_count": 81,
   "metadata": {},
   "outputs": [
    {
     "data": {
      "text/plain": [
       "case_status\n",
       "Certified    17018\n",
       "Denied        8462\n",
       "Name: count, dtype: int64"
      ]
     },
     "execution_count": 81,
     "metadata": {},
     "output_type": "execute_result"
    }
   ],
   "source": [
    "data['case_status'].value_counts()"
   ]
  },
  {
   "cell_type": "code",
   "execution_count": 93,
   "metadata": {},
   "outputs": [
    {
     "data": {
      "text/plain": [
       "0    17018\n",
       "1     8462\n",
       "Name: count, dtype: int64"
      ]
     },
     "execution_count": 93,
     "metadata": {},
     "output_type": "execute_result"
    }
   ],
   "source": [
    "pd.value_counts(y)"
   ]
  },
  {
   "cell_type": "code",
   "execution_count": 97,
   "metadata": {},
   "outputs": [
    {
     "name": "stdout",
     "output_type": "stream",
     "text": [
      "(17180, 26) (17180,)\n"
     ]
    },
    {
     "data": {
      "text/plain": [
       "1    9267\n",
       "0    7913\n",
       "Name: count, dtype: int64"
      ]
     },
     "execution_count": 97,
     "metadata": {},
     "output_type": "execute_result"
    }
   ],
   "source": [
    "from imblearn.combine import SMOTEENN, SMOTETomek\n",
    "\n",
    "smt = SMOTEENN(random_state=42, sampling_strategy='minority') \n",
    "X_new, y_new = smt.fit_resample(X, y)\n",
    "print(X_new.shape, y_new.shape)\n",
    "pd.value_counts(y_new)  "
   ]
  },
  {
   "cell_type": "markdown",
   "metadata": {},
   "source": [
    "## Train test split"
   ]
  },
  {
   "cell_type": "code",
   "execution_count": 87,
   "metadata": {},
   "outputs": [],
   "source": [
    "from sklearn.linear_model import LogisticRegression\n",
    "from imblearn.combine import SMOTEENN, SMOTETomek\n",
    "from sklearn.model_selection import train_test_split\n",
    "from sklearn.metrics import confusion_matrix, classification_report\n",
    "# smt = SMOTEENN(random_state=42, sampling_strategy='minority')\n",
    "# lg = LogisticRegression()\n",
    "# X_res, y_res = smt.fit_resample(X, y)\n",
    "\n",
    "# X_train, X_test, y_train, y_test = train_test_split(X_res, y_res, test_size=0.2, random_state=42, stratify=y_res)\n",
    "# lg.fit(X_train, y_train)\n",
    "# y_pred = lg.predict(X_test)\n",
    "# print(classification_report(y_test, y_pred=y_pred))\n",
    "# print(confusion_matrix(y_test, y_pred))"
   ]
  },
  {
   "cell_type": "code",
   "execution_count": 98,
   "metadata": {},
   "outputs": [],
   "source": [
    "X_train, X_test, y_train, y_test = train_test_split(X_new, y_new, test_size=0.2, random_state=42, stratify=y_new)\n"
   ]
  },
  {
   "cell_type": "code",
   "execution_count": 99,
   "metadata": {},
   "outputs": [
    {
     "data": {
      "text/plain": [
       "((13744, 26), (3436, 26))"
      ]
     },
     "execution_count": 99,
     "metadata": {},
     "output_type": "execute_result"
    }
   ],
   "source": [
    "X_train.shape, X_test.shape"
   ]
  },
  {
   "cell_type": "code",
   "execution_count": 108,
   "metadata": {},
   "outputs": [],
   "source": [
    "\n",
    "from sklearn.linear_model import LogisticRegression\n",
    "from sklearn.neighbors import KNeighborsClassifier\n",
    "from sklearn.tree import DecisionTreeClassifier\n",
    "from sklearn.ensemble import RandomForestClassifier, AdaBoostClassifier, GradientBoostingClassifier\n",
    "from sklearn.svm import SVC\n",
    "from xgboost import XGBClassifier\n",
    "# from catboost import \n",
    "from sklearn.metrics import accuracy_score, classification_report, confusion_matrix, ConfusionMatrixDisplay\n",
    "from sklearn.metrics import precision_score, f1_score, recall_score, roc_auc_score, roc_curve\n"
   ]
  },
  {
   "cell_type": "markdown",
   "metadata": {},
   "source": [
    "### defining model score fucntion"
   ]
  },
  {
   "cell_type": "code",
   "execution_count": 119,
   "metadata": {},
   "outputs": [],
   "source": [
    "def evaluate_model_scores(y_true, y_pred):\n",
    "    acc = accuracy_score(y_true, y_pred)\n",
    "    f1 = f1_score(y_true, y_pred)\n",
    "    precision = precision_score(y_true, y_pred)\n",
    "    recall = recall_score(y_true, y_pred)\n",
    "    roc_auc = roc_auc_score(y_true, y_pred)\n",
    "    return acc, f1, precision, recall, roc_auc"
   ]
  },
  {
   "cell_type": "markdown",
   "metadata": {},
   "source": [
    "### creating dictionnary for models"
   ]
  },
  {
   "cell_type": "code",
   "execution_count": 116,
   "metadata": {},
   "outputs": [],
   "source": [
    "models = {\n",
    "    'logistic regression': LogisticRegression(),\n",
    "    'KNeighborsClassifier': KNeighborsClassifier(),\n",
    "    'DecisionTreeClassifier': DecisionTreeClassifier(),\n",
    "    'RandomForestClassifier': RandomForestClassifier(),\n",
    "    'AdaBoostClassifier': AdaBoostClassifier(),\n",
    "    'GradientBoostingClassifier': GradientBoostingClassifier(),\n",
    "    'SVC': SVC(),\n",
    "    'XGBClassifier': XGBClassifier()\n",
    "\n",
    "}"
   ]
  },
  {
   "cell_type": "markdown",
   "metadata": {},
   "source": [
    "### model fitting and returning model performance as dataframe"
   ]
  },
  {
   "cell_type": "code",
   "execution_count": 122,
   "metadata": {},
   "outputs": [],
   "source": [
    "def evaluate_model(X, y, models: dict):\n",
    "    X_train, X_test, y_train, y_test = train_test_split(X_new, y_new, test_size=0.2, random_state=42, stratify=y_new)\n",
    "    \n",
    "    models_list = []\n",
    "    accuracy_list = []\n",
    "    auc = []\n",
    "\n",
    "    for i in range(len(list(models))):\n",
    "        model = list(models.values())[i]\n",
    "        model.fit(X_train, y_train)\n",
    "\n",
    "        y_train_pred = model.predict(X_train)\n",
    "        y_test_pred = model.predict(X_test)\n",
    "\n",
    "        model_train_accuracy, model_train_f1_score, model_train_precision,\\\n",
    "        model_train_recall, model_train_roc_auc = evaluate_model_scores(y_train, y_train_pred)\n",
    "\n",
    "        model_test_accuracy, model_test_f1_score, model_test_precision,\\\n",
    "        model_test_recall, model_test_roc_auc = evaluate_model_scores(y_test, y_test_pred)\n",
    "\n",
    "        print(list(models.keys())[i])\n",
    "        models_list.append(list(models.keys())[i])\n",
    "\n",
    "        print('Model performance for Training set')\n",
    "        print(\"- Accuracy: {:.4f}\".format(model_train_accuracy))\n",
    "        print('- F1 score: {:.4f}'.format(model_train_f1_score)) \n",
    "        print('- Precision: {:.4f}'.format(model_train_precision))\n",
    "        print('- Recall: {:.4f}'.format(model_train_recall))\n",
    "        print('- Roc Auc Score: {:.4f}'.format(model_train_roc_auc))\n",
    "\n",
    "        print('----------------------------------')\n",
    "\n",
    "        print('Model performance for Test set')\n",
    "        print('- Accuracy: {:.4f}'.format(model_test_accuracy))\n",
    "        accuracy_list.append(model_test_accuracy)\n",
    "        print('- F1 score: {:.4f}'.format(model_test_f1_score))\n",
    "        print('- Precision: {:.4f}'.format(model_test_precision))\n",
    "        print('- Recall: {:.4f}'.format(model_test_recall))\n",
    "        print('- Roc Auc Score: {:.4f}'.format(model_test_roc_auc))\n",
    "        auc.append(model_test_roc_auc)\n",
    "        print('='*35)\n",
    "        print('\\n')\n",
    "\n",
    "    report = pd.DataFrame(list(zip(models_list, accuracy_list)), columns=['model', 'accuracy_score']).sort_values(by=['accuracy_score'], ascending=False)\n",
    "\n",
    "    return report   \n"
   ]
  },
  {
   "cell_type": "code",
   "execution_count": 123,
   "metadata": {},
   "outputs": [
    {
     "name": "stdout",
     "output_type": "stream",
     "text": [
      "logistic regression\n",
      "Model performance for Training set\n",
      "- Accuracy: 0.8587\n",
      "- F1 score: 0.8667\n",
      "- Precision: 0.8827\n",
      "- Recall: 0.8512\n",
      "- Roc Auc Score: 0.8593\n",
      "----------------------------------\n",
      "Model performance for Test set\n",
      "- Accuracy: 0.8530\n",
      "- F1 score: 0.8615\n",
      "- Precision: 0.8757\n",
      "- Recall: 0.8478\n",
      "- Roc Auc Score: 0.8535\n",
      "===================================\n",
      "\n",
      "\n",
      "KNeighborsClassifier\n",
      "Model performance for Training set\n",
      "- Accuracy: 0.9686\n",
      "- F1 score: 0.9712\n",
      "- Precision: 0.9613\n",
      "- Recall: 0.9814\n",
      "- Roc Auc Score: 0.9675\n",
      "----------------------------------\n",
      "Model performance for Test set\n",
      "- Accuracy: 0.9331\n",
      "- F1 score: 0.9391\n",
      "- Precision: 0.9216\n",
      "- Recall: 0.9574\n",
      "- Roc Auc Score: 0.9310\n",
      "===================================\n",
      "\n",
      "\n",
      "DecisionTreeClassifier\n",
      "Model performance for Training set\n",
      "- Accuracy: 1.0000\n",
      "- F1 score: 1.0000\n",
      "- Precision: 1.0000\n",
      "- Recall: 1.0000\n",
      "- Roc Auc Score: 1.0000\n",
      "----------------------------------\n",
      "Model performance for Test set\n",
      "- Accuracy: 0.9162\n",
      "- F1 score: 0.9226\n",
      "- Precision: 0.9187\n",
      "- Recall: 0.9266\n",
      "- Roc Auc Score: 0.9153\n",
      "===================================\n",
      "\n",
      "\n",
      "RandomForestClassifier\n",
      "Model performance for Training set\n",
      "- Accuracy: 1.0000\n",
      "- F1 score: 1.0000\n",
      "- Precision: 1.0000\n",
      "- Recall: 1.0000\n",
      "- Roc Auc Score: 1.0000\n",
      "----------------------------------\n",
      "Model performance for Test set\n",
      "- Accuracy: 0.9456\n",
      "- F1 score: 0.9494\n",
      "- Precision: 0.9517\n",
      "- Recall: 0.9471\n",
      "- Roc Auc Score: 0.9454\n",
      "===================================\n",
      "\n",
      "\n",
      "AdaBoostClassifier\n",
      "Model performance for Training set\n",
      "- Accuracy: 0.8636\n",
      "- F1 score: 0.8726\n",
      "- Precision: 0.8794\n",
      "- Recall: 0.8658\n",
      "- Roc Auc Score: 0.8634\n",
      "----------------------------------\n",
      "Model performance for Test set\n",
      "- Accuracy: 0.8586\n",
      "- F1 score: 0.8690\n",
      "- Precision: 0.8681\n",
      "- Recall: 0.8699\n",
      "- Roc Auc Score: 0.8576\n",
      "===================================\n",
      "\n",
      "\n",
      "GradientBoostingClassifier\n",
      "Model performance for Training set\n",
      "- Accuracy: 0.8905\n",
      "- F1 score: 0.8978\n",
      "- Precision: 0.9038\n",
      "- Recall: 0.8920\n",
      "- Roc Auc Score: 0.8904\n",
      "----------------------------------\n",
      "Model performance for Test set\n",
      "- Accuracy: 0.8859\n",
      "- F1 score: 0.8938\n",
      "- Precision: 0.8972\n",
      "- Recall: 0.8904\n",
      "- Roc Auc Score: 0.8855\n",
      "===================================\n",
      "\n",
      "\n",
      "SVC\n",
      "Model performance for Training set\n",
      "- Accuracy: 0.8933\n",
      "- F1 score: 0.9004\n",
      "- Precision: 0.9068\n",
      "- Recall: 0.8940\n",
      "- Roc Auc Score: 0.8932\n",
      "----------------------------------\n",
      "Model performance for Test set\n",
      "- Accuracy: 0.8839\n",
      "- F1 score: 0.8918\n",
      "- Precision: 0.8960\n",
      "- Recall: 0.8877\n",
      "- Roc Auc Score: 0.8835\n",
      "===================================\n",
      "\n",
      "\n",
      "XGBClassifier\n",
      "Model performance for Training set\n",
      "- Accuracy: 0.9776\n",
      "- F1 score: 0.9792\n",
      "- Precision: 0.9805\n",
      "- Recall: 0.9779\n",
      "- Roc Auc Score: 0.9776\n",
      "----------------------------------\n",
      "Model performance for Test set\n",
      "- Accuracy: 0.9272\n",
      "- F1 score: 0.9321\n",
      "- Precision: 0.9387\n",
      "- Recall: 0.9255\n",
      "- Roc Auc Score: 0.9274\n",
      "===================================\n",
      "\n",
      "\n"
     ]
    }
   ],
   "source": [
    "model_report = evaluate_model(X=X_new, y=y_new, models=models)"
   ]
  },
  {
   "cell_type": "code",
   "execution_count": 124,
   "metadata": {},
   "outputs": [
    {
     "data": {
      "text/html": [
       "<div>\n",
       "<style scoped>\n",
       "    .dataframe tbody tr th:only-of-type {\n",
       "        vertical-align: middle;\n",
       "    }\n",
       "\n",
       "    .dataframe tbody tr th {\n",
       "        vertical-align: top;\n",
       "    }\n",
       "\n",
       "    .dataframe thead th {\n",
       "        text-align: right;\n",
       "    }\n",
       "</style>\n",
       "<table border=\"1\" class=\"dataframe\">\n",
       "  <thead>\n",
       "    <tr style=\"text-align: right;\">\n",
       "      <th></th>\n",
       "      <th>model</th>\n",
       "      <th>accuracy_score</th>\n",
       "    </tr>\n",
       "  </thead>\n",
       "  <tbody>\n",
       "    <tr>\n",
       "      <th>3</th>\n",
       "      <td>RandomForestClassifier</td>\n",
       "      <td>0.945576</td>\n",
       "    </tr>\n",
       "    <tr>\n",
       "      <th>1</th>\n",
       "      <td>KNeighborsClassifier</td>\n",
       "      <td>0.933062</td>\n",
       "    </tr>\n",
       "    <tr>\n",
       "      <th>7</th>\n",
       "      <td>XGBClassifier</td>\n",
       "      <td>0.927241</td>\n",
       "    </tr>\n",
       "    <tr>\n",
       "      <th>2</th>\n",
       "      <td>DecisionTreeClassifier</td>\n",
       "      <td>0.916182</td>\n",
       "    </tr>\n",
       "    <tr>\n",
       "      <th>5</th>\n",
       "      <td>GradientBoostingClassifier</td>\n",
       "      <td>0.885914</td>\n",
       "    </tr>\n",
       "    <tr>\n",
       "      <th>6</th>\n",
       "      <td>SVC</td>\n",
       "      <td>0.883877</td>\n",
       "    </tr>\n",
       "    <tr>\n",
       "      <th>4</th>\n",
       "      <td>AdaBoostClassifier</td>\n",
       "      <td>0.858556</td>\n",
       "    </tr>\n",
       "    <tr>\n",
       "      <th>0</th>\n",
       "      <td>logistic regression</td>\n",
       "      <td>0.853027</td>\n",
       "    </tr>\n",
       "  </tbody>\n",
       "</table>\n",
       "</div>"
      ],
      "text/plain": [
       "                        model  accuracy_score\n",
       "3      RandomForestClassifier        0.945576\n",
       "1        KNeighborsClassifier        0.933062\n",
       "7               XGBClassifier        0.927241\n",
       "2      DecisionTreeClassifier        0.916182\n",
       "5  GradientBoostingClassifier        0.885914\n",
       "6                         SVC        0.883877\n",
       "4          AdaBoostClassifier        0.858556\n",
       "0         logistic regression        0.853027"
      ]
     },
     "execution_count": 124,
     "metadata": {},
     "output_type": "execute_result"
    }
   ],
   "source": [
    "model_report"
   ]
  },
  {
   "cell_type": "markdown",
   "metadata": {},
   "source": [
    "### settting up the params"
   ]
  },
  {
   "cell_type": "code",
   "execution_count": 129,
   "metadata": {},
   "outputs": [],
   "source": [
    "# set params\n",
    "\n",
    "xgboost_params = {\n",
    "    'max_depth': range(3, 10, 2),\n",
    "    'min_child_weight': range(1,6, 2)\n",
    "}\n",
    "\n",
    "rf_params = {\n",
    "    'max_depth': [10, 12, None, 15, 20],\n",
    "    'max_features': ['sqrt', 'log2', None],\n",
    "    'n_estimators': [10, 50, 100, 200]\n",
    "}\n",
    "\n",
    "knn_params = {\n",
    "    'algorithm': ['auto', 'ball_tree', 'kd_tree', 'brute'],\n",
    "    'weights': ['uniform', 'distance'],\n",
    "    'n_neighbors': [3, 4, 5, 6, 7, 9]\n",
    "}"
   ]
  },
  {
   "cell_type": "markdown",
   "metadata": {},
   "source": [
    "### setting up dict for gridsearchcv or randomized search cv\n"
   ]
  },
  {
   "cell_type": "code",
   "execution_count": 130,
   "metadata": {},
   "outputs": [],
   "source": [
    "grid_search_models = [\n",
    "    ('xgboost', XGBClassifier(), xgboost_params),\n",
    "    ('random_forest', RandomForestClassifier(), rf_params),\n",
    "    ('KNN', KNeighborsClassifier(), knn_params)\n",
    "]"
   ]
  },
  {
   "cell_type": "markdown",
   "metadata": {},
   "source": [
    "### hyperparameter tuning"
   ]
  },
  {
   "cell_type": "code",
   "execution_count": 133,
   "metadata": {},
   "outputs": [
    {
     "name": "stdout",
     "output_type": "stream",
     "text": [
      "Fitting 3 folds for each of 12 candidates, totalling 36 fits\n",
      "[CV] END ....................max_depth=3, min_child_weight=1; total time=   0.0s\n",
      "[CV] END ....................max_depth=3, min_child_weight=1; total time=   0.0s\n",
      "[CV] END ....................max_depth=3, min_child_weight=1; total time=   0.0s\n",
      "[CV] END ....................max_depth=3, min_child_weight=3; total time=   0.0s\n",
      "[CV] END ....................max_depth=3, min_child_weight=3; total time=   0.0s\n",
      "[CV] END ....................max_depth=3, min_child_weight=3; total time=   0.0s\n",
      "[CV] END ....................max_depth=3, min_child_weight=5; total time=   0.0s\n",
      "[CV] END ....................max_depth=3, min_child_weight=5; total time=   0.0s\n",
      "[CV] END ....................max_depth=3, min_child_weight=5; total time=   0.0s\n",
      "[CV] END ....................max_depth=5, min_child_weight=1; total time=   0.0s\n",
      "[CV] END ....................max_depth=5, min_child_weight=1; total time=   0.0s\n",
      "[CV] END ....................max_depth=5, min_child_weight=1; total time=   0.0s\n",
      "[CV] END ....................max_depth=5, min_child_weight=3; total time=   0.0s\n",
      "[CV] END ....................max_depth=5, min_child_weight=3; total time=   0.0s\n",
      "[CV] END ....................max_depth=5, min_child_weight=3; total time=   0.0s\n",
      "[CV] END ....................max_depth=5, min_child_weight=5; total time=   0.0s\n",
      "[CV] END ....................max_depth=5, min_child_weight=5; total time=   0.0s\n",
      "[CV] END ....................max_depth=5, min_child_weight=5; total time=   0.0s\n",
      "[CV] END ....................max_depth=7, min_child_weight=1; total time=   0.1s\n",
      "[CV] END ....................max_depth=7, min_child_weight=1; total time=   0.1s\n",
      "[CV] END ....................max_depth=7, min_child_weight=1; total time=   0.1s\n",
      "[CV] END ....................max_depth=7, min_child_weight=3; total time=   0.1s\n",
      "[CV] END ....................max_depth=7, min_child_weight=3; total time=   0.1s\n",
      "[CV] END ....................max_depth=7, min_child_weight=3; total time=   0.1s\n",
      "[CV] END ....................max_depth=7, min_child_weight=5; total time=   0.1s\n",
      "[CV] END ....................max_depth=7, min_child_weight=5; total time=   0.1s\n",
      "[CV] END ....................max_depth=7, min_child_weight=5; total time=   0.1s\n",
      "[CV] END ....................max_depth=9, min_child_weight=1; total time=   0.2s\n",
      "[CV] END ....................max_depth=9, min_child_weight=1; total time=   0.2s\n",
      "[CV] END ....................max_depth=9, min_child_weight=1; total time=   0.2s\n",
      "[CV] END ....................max_depth=9, min_child_weight=3; total time=   0.2s\n",
      "[CV] END ....................max_depth=9, min_child_weight=3; total time=   0.2s\n",
      "[CV] END ....................max_depth=9, min_child_weight=3; total time=   0.2s\n",
      "[CV] END ....................max_depth=9, min_child_weight=5; total time=   0.1s\n",
      "[CV] END ....................max_depth=9, min_child_weight=5; total time=   0.1s\n",
      "[CV] END ....................max_depth=9, min_child_weight=5; total time=   0.1s\n",
      "Fitting 3 folds for each of 60 candidates, totalling 180 fits\n",
      "[CV] END ...max_depth=10, max_features=sqrt, n_estimators=10; total time=   0.0s\n",
      "[CV] END ...max_depth=10, max_features=sqrt, n_estimators=10; total time=   0.0s\n",
      "[CV] END ...max_depth=10, max_features=sqrt, n_estimators=10; total time=   0.0s\n",
      "[CV] END ...max_depth=10, max_features=sqrt, n_estimators=50; total time=   0.5s\n",
      "[CV] END ...max_depth=10, max_features=sqrt, n_estimators=50; total time=   0.4s\n",
      "[CV] END ...max_depth=10, max_features=sqrt, n_estimators=50; total time=   0.5s\n",
      "[CV] END ..max_depth=10, max_features=sqrt, n_estimators=100; total time=   1.1s\n",
      "[CV] END ..max_depth=10, max_features=sqrt, n_estimators=100; total time=   1.2s\n",
      "[CV] END ..max_depth=10, max_features=sqrt, n_estimators=100; total time=   1.1s\n",
      "[CV] END ..max_depth=10, max_features=sqrt, n_estimators=200; total time=   2.5s\n",
      "[CV] END ..max_depth=10, max_features=sqrt, n_estimators=200; total time=   2.2s\n",
      "[CV] END ..max_depth=10, max_features=sqrt, n_estimators=200; total time=   2.2s\n",
      "[CV] END ...max_depth=10, max_features=log2, n_estimators=10; total time=   0.0s\n",
      "[CV] END ...max_depth=10, max_features=log2, n_estimators=10; total time=   0.0s\n",
      "[CV] END ...max_depth=10, max_features=log2, n_estimators=10; total time=   0.0s\n",
      "[CV] END ...max_depth=10, max_features=log2, n_estimators=50; total time=   0.4s\n",
      "[CV] END ...max_depth=10, max_features=log2, n_estimators=50; total time=   0.4s\n",
      "[CV] END ...max_depth=10, max_features=log2, n_estimators=50; total time=   0.3s\n",
      "[CV] END ..max_depth=10, max_features=log2, n_estimators=100; total time=   1.0s\n",
      "[CV] END ..max_depth=10, max_features=log2, n_estimators=100; total time=   1.1s\n",
      "[CV] END ..max_depth=10, max_features=log2, n_estimators=100; total time=   0.9s\n",
      "[CV] END ..max_depth=10, max_features=log2, n_estimators=200; total time=   1.9s\n",
      "[CV] END ..max_depth=10, max_features=log2, n_estimators=200; total time=   1.7s\n",
      "[CV] END ..max_depth=10, max_features=log2, n_estimators=200; total time=   1.8s\n",
      "[CV] END ...max_depth=10, max_features=None, n_estimators=10; total time=   0.3s\n",
      "[CV] END ...max_depth=10, max_features=None, n_estimators=10; total time=   0.4s\n",
      "[CV] END ...max_depth=10, max_features=None, n_estimators=10; total time=   0.3s\n",
      "[CV] END ...max_depth=10, max_features=None, n_estimators=50; total time=   2.1s\n",
      "[CV] END ...max_depth=10, max_features=None, n_estimators=50; total time=   2.2s\n",
      "[CV] END ...max_depth=10, max_features=None, n_estimators=50; total time=   2.0s\n",
      "[CV] END ..max_depth=10, max_features=None, n_estimators=100; total time=   4.3s\n",
      "[CV] END ..max_depth=10, max_features=None, n_estimators=100; total time=   6.5s\n",
      "[CV] END ..max_depth=10, max_features=None, n_estimators=100; total time=   4.6s\n",
      "[CV] END ..max_depth=10, max_features=None, n_estimators=200; total time=   8.9s\n",
      "[CV] END ..max_depth=10, max_features=None, n_estimators=200; total time=   9.1s\n",
      "[CV] END ..max_depth=10, max_features=None, n_estimators=200; total time=   9.7s\n",
      "[CV] END ...max_depth=12, max_features=sqrt, n_estimators=10; total time=   0.0s\n",
      "[CV] END ...max_depth=12, max_features=sqrt, n_estimators=10; total time=   0.0s\n",
      "[CV] END ...max_depth=12, max_features=sqrt, n_estimators=10; total time=   0.1s\n",
      "[CV] END ...max_depth=12, max_features=sqrt, n_estimators=50; total time=   0.9s\n",
      "[CV] END ...max_depth=12, max_features=sqrt, n_estimators=50; total time=   0.8s\n",
      "[CV] END ...max_depth=12, max_features=sqrt, n_estimators=50; total time=   0.8s\n",
      "[CV] END ..max_depth=12, max_features=sqrt, n_estimators=100; total time=   1.8s\n",
      "[CV] END ..max_depth=12, max_features=sqrt, n_estimators=100; total time=   1.5s\n",
      "[CV] END ..max_depth=12, max_features=sqrt, n_estimators=100; total time=   1.8s\n",
      "[CV] END ..max_depth=12, max_features=sqrt, n_estimators=200; total time=   3.9s\n",
      "[CV] END ..max_depth=12, max_features=sqrt, n_estimators=200; total time=   3.9s\n",
      "[CV] END ..max_depth=12, max_features=sqrt, n_estimators=200; total time=   3.9s\n",
      "[CV] END ...max_depth=12, max_features=log2, n_estimators=10; total time=   0.1s\n",
      "[CV] END ...max_depth=12, max_features=log2, n_estimators=10; total time=   0.1s\n",
      "[CV] END ...max_depth=12, max_features=log2, n_estimators=10; total time=   0.1s\n",
      "[CV] END ...max_depth=12, max_features=log2, n_estimators=50; total time=   0.8s\n",
      "[CV] END ...max_depth=12, max_features=log2, n_estimators=50; total time=   0.8s\n",
      "[CV] END ...max_depth=12, max_features=log2, n_estimators=50; total time=   0.7s\n",
      "[CV] END ..max_depth=12, max_features=log2, n_estimators=100; total time=   1.8s\n",
      "[CV] END ..max_depth=12, max_features=log2, n_estimators=100; total time=   1.7s\n",
      "[CV] END ..max_depth=12, max_features=log2, n_estimators=100; total time=   1.4s\n",
      "[CV] END ..max_depth=12, max_features=log2, n_estimators=200; total time=   3.1s\n",
      "[CV] END ..max_depth=12, max_features=log2, n_estimators=200; total time=   3.3s\n",
      "[CV] END ..max_depth=12, max_features=log2, n_estimators=200; total time=   3.0s\n",
      "[CV] END ...max_depth=12, max_features=None, n_estimators=10; total time=   0.7s\n",
      "[CV] END ...max_depth=12, max_features=None, n_estimators=10; total time=   0.6s\n",
      "[CV] END ...max_depth=12, max_features=None, n_estimators=10; total time=   0.6s\n",
      "[CV] END ...max_depth=12, max_features=None, n_estimators=50; total time=   3.5s\n",
      "[CV] END ...max_depth=12, max_features=None, n_estimators=50; total time=   3.8s\n",
      "[CV] END ...max_depth=12, max_features=None, n_estimators=50; total time=   3.5s\n",
      "[CV] END ..max_depth=12, max_features=None, n_estimators=100; total time=   5.4s\n",
      "[CV] END ..max_depth=12, max_features=None, n_estimators=100; total time=   6.8s\n",
      "[CV] END ..max_depth=12, max_features=None, n_estimators=100; total time=   4.8s\n",
      "[CV] END ..max_depth=12, max_features=None, n_estimators=200; total time=  15.0s\n",
      "[CV] END ..max_depth=12, max_features=None, n_estimators=200; total time=  14.1s\n",
      "[CV] END ..max_depth=12, max_features=None, n_estimators=200; total time=   8.8s\n",
      "[CV] END .max_depth=None, max_features=sqrt, n_estimators=10; total time=   0.1s\n",
      "[CV] END .max_depth=None, max_features=sqrt, n_estimators=10; total time=   0.0s\n",
      "[CV] END .max_depth=None, max_features=sqrt, n_estimators=10; total time=   0.0s\n",
      "[CV] END .max_depth=None, max_features=sqrt, n_estimators=50; total time=   0.7s\n",
      "[CV] END .max_depth=None, max_features=sqrt, n_estimators=50; total time=   0.6s\n",
      "[CV] END .max_depth=None, max_features=sqrt, n_estimators=50; total time=   0.6s\n",
      "[CV] END max_depth=None, max_features=sqrt, n_estimators=100; total time=   1.6s\n",
      "[CV] END max_depth=None, max_features=sqrt, n_estimators=100; total time=   1.4s\n",
      "[CV] END max_depth=None, max_features=sqrt, n_estimators=100; total time=   1.3s\n",
      "[CV] END max_depth=None, max_features=sqrt, n_estimators=200; total time=   3.0s\n",
      "[CV] END max_depth=None, max_features=sqrt, n_estimators=200; total time=   2.9s\n",
      "[CV] END max_depth=None, max_features=sqrt, n_estimators=200; total time=   2.9s\n",
      "[CV] END .max_depth=None, max_features=log2, n_estimators=10; total time=   0.0s\n",
      "[CV] END .max_depth=None, max_features=log2, n_estimators=10; total time=   0.0s\n",
      "[CV] END .max_depth=None, max_features=log2, n_estimators=10; total time=   0.0s\n",
      "[CV] END .max_depth=None, max_features=log2, n_estimators=50; total time=   0.7s\n",
      "[CV] END .max_depth=None, max_features=log2, n_estimators=50; total time=   0.6s\n",
      "[CV] END .max_depth=None, max_features=log2, n_estimators=50; total time=   0.7s\n",
      "[CV] END max_depth=None, max_features=log2, n_estimators=100; total time=   1.4s\n",
      "[CV] END max_depth=None, max_features=log2, n_estimators=100; total time=   1.4s\n",
      "[CV] END max_depth=None, max_features=log2, n_estimators=100; total time=   1.3s\n",
      "[CV] END max_depth=None, max_features=log2, n_estimators=200; total time=   2.5s\n",
      "[CV] END max_depth=None, max_features=log2, n_estimators=200; total time=   2.4s\n",
      "[CV] END max_depth=None, max_features=log2, n_estimators=200; total time=   3.8s\n",
      "[CV] END .max_depth=None, max_features=None, n_estimators=10; total time=   0.7s\n",
      "[CV] END .max_depth=None, max_features=None, n_estimators=10; total time=   0.6s\n",
      "[CV] END .max_depth=None, max_features=None, n_estimators=10; total time=   0.6s\n",
      "[CV] END .max_depth=None, max_features=None, n_estimators=50; total time=   4.0s\n",
      "[CV] END .max_depth=None, max_features=None, n_estimators=50; total time=   3.6s\n",
      "[CV] END .max_depth=None, max_features=None, n_estimators=50; total time=   2.7s\n",
      "[CV] END max_depth=None, max_features=None, n_estimators=100; total time=   6.0s\n",
      "[CV] END max_depth=None, max_features=None, n_estimators=100; total time=   6.1s\n",
      "[CV] END max_depth=None, max_features=None, n_estimators=100; total time=   6.1s\n",
      "[CV] END max_depth=None, max_features=None, n_estimators=200; total time=  13.0s\n",
      "[CV] END max_depth=None, max_features=None, n_estimators=200; total time=  11.8s\n",
      "[CV] END max_depth=None, max_features=None, n_estimators=200; total time=  11.3s\n",
      "[CV] END ...max_depth=15, max_features=sqrt, n_estimators=10; total time=   0.1s\n",
      "[CV] END ...max_depth=15, max_features=sqrt, n_estimators=10; total time=   0.1s\n",
      "[CV] END ...max_depth=15, max_features=sqrt, n_estimators=10; total time=   0.1s\n",
      "[CV] END ...max_depth=15, max_features=sqrt, n_estimators=50; total time=   1.0s\n",
      "[CV] END ...max_depth=15, max_features=sqrt, n_estimators=50; total time=   0.8s\n",
      "[CV] END ...max_depth=15, max_features=sqrt, n_estimators=50; total time=   0.8s\n",
      "[CV] END ..max_depth=15, max_features=sqrt, n_estimators=100; total time=   1.5s\n",
      "[CV] END ..max_depth=15, max_features=sqrt, n_estimators=100; total time=   1.7s\n",
      "[CV] END ..max_depth=15, max_features=sqrt, n_estimators=100; total time=   1.5s\n",
      "[CV] END ..max_depth=15, max_features=sqrt, n_estimators=200; total time=   3.0s\n",
      "[CV] END ..max_depth=15, max_features=sqrt, n_estimators=200; total time=   2.8s\n",
      "[CV] END ..max_depth=15, max_features=sqrt, n_estimators=200; total time=   2.4s\n",
      "[CV] END ...max_depth=15, max_features=log2, n_estimators=10; total time=   0.0s\n",
      "[CV] END ...max_depth=15, max_features=log2, n_estimators=10; total time=   0.0s\n",
      "[CV] END ...max_depth=15, max_features=log2, n_estimators=10; total time=   0.0s\n",
      "[CV] END ...max_depth=15, max_features=log2, n_estimators=50; total time=   0.5s\n",
      "[CV] END ...max_depth=15, max_features=log2, n_estimators=50; total time=   0.5s\n",
      "[CV] END ...max_depth=15, max_features=log2, n_estimators=50; total time=   0.4s\n",
      "[CV] END ..max_depth=15, max_features=log2, n_estimators=100; total time=   1.1s\n",
      "[CV] END ..max_depth=15, max_features=log2, n_estimators=100; total time=   1.0s\n",
      "[CV] END ..max_depth=15, max_features=log2, n_estimators=100; total time=   1.0s\n",
      "[CV] END ..max_depth=15, max_features=log2, n_estimators=200; total time=   2.2s\n",
      "[CV] END ..max_depth=15, max_features=log2, n_estimators=200; total time=   2.3s\n",
      "[CV] END ..max_depth=15, max_features=log2, n_estimators=200; total time=   2.1s\n",
      "[CV] END ...max_depth=15, max_features=None, n_estimators=10; total time=   0.4s\n",
      "[CV] END ...max_depth=15, max_features=None, n_estimators=10; total time=   0.5s\n",
      "[CV] END ...max_depth=15, max_features=None, n_estimators=10; total time=   0.6s\n",
      "[CV] END ...max_depth=15, max_features=None, n_estimators=50; total time=   3.4s\n",
      "[CV] END ...max_depth=15, max_features=None, n_estimators=50; total time=   4.9s\n",
      "[CV] END ...max_depth=15, max_features=None, n_estimators=50; total time=   2.9s\n",
      "[CV] END ..max_depth=15, max_features=None, n_estimators=100; total time=   5.9s\n",
      "[CV] END ..max_depth=15, max_features=None, n_estimators=100; total time=   5.9s\n",
      "[CV] END ..max_depth=15, max_features=None, n_estimators=100; total time=   5.4s\n",
      "[CV] END ..max_depth=15, max_features=None, n_estimators=200; total time=  12.7s\n",
      "[CV] END ..max_depth=15, max_features=None, n_estimators=200; total time=  11.4s\n",
      "[CV] END ..max_depth=15, max_features=None, n_estimators=200; total time=  11.2s\n",
      "[CV] END ...max_depth=20, max_features=sqrt, n_estimators=10; total time=   0.1s\n",
      "[CV] END ...max_depth=20, max_features=sqrt, n_estimators=10; total time=   0.2s\n",
      "[CV] END ...max_depth=20, max_features=sqrt, n_estimators=10; total time=   0.2s\n",
      "[CV] END ...max_depth=20, max_features=sqrt, n_estimators=50; total time=   1.6s\n",
      "[CV] END ...max_depth=20, max_features=sqrt, n_estimators=50; total time=   1.2s\n",
      "[CV] END ...max_depth=20, max_features=sqrt, n_estimators=50; total time=   1.1s\n",
      "[CV] END ..max_depth=20, max_features=sqrt, n_estimators=100; total time=   2.5s\n",
      "[CV] END ..max_depth=20, max_features=sqrt, n_estimators=100; total time=   2.5s\n",
      "[CV] END ..max_depth=20, max_features=sqrt, n_estimators=100; total time=   1.6s\n",
      "[CV] END ..max_depth=20, max_features=sqrt, n_estimators=200; total time=   3.7s\n",
      "[CV] END ..max_depth=20, max_features=sqrt, n_estimators=200; total time=   3.9s\n",
      "[CV] END ..max_depth=20, max_features=sqrt, n_estimators=200; total time=   4.8s\n",
      "[CV] END ...max_depth=20, max_features=log2, n_estimators=10; total time=   0.2s\n",
      "[CV] END ...max_depth=20, max_features=log2, n_estimators=10; total time=   0.1s\n",
      "[CV] END ...max_depth=20, max_features=log2, n_estimators=10; total time=   0.3s\n",
      "[CV] END ...max_depth=20, max_features=log2, n_estimators=50; total time=   0.9s\n",
      "[CV] END ...max_depth=20, max_features=log2, n_estimators=50; total time=   0.6s\n",
      "[CV] END ...max_depth=20, max_features=log2, n_estimators=50; total time=   0.6s\n",
      "[CV] END ..max_depth=20, max_features=log2, n_estimators=100; total time=   1.4s\n",
      "[CV] END ..max_depth=20, max_features=log2, n_estimators=100; total time=   1.2s\n",
      "[CV] END ..max_depth=20, max_features=log2, n_estimators=100; total time=   1.1s\n",
      "[CV] END ..max_depth=20, max_features=log2, n_estimators=200; total time=   2.6s\n",
      "[CV] END ..max_depth=20, max_features=log2, n_estimators=200; total time=   2.9s\n",
      "[CV] END ..max_depth=20, max_features=log2, n_estimators=200; total time=   2.6s\n",
      "[CV] END ...max_depth=20, max_features=None, n_estimators=10; total time=   0.5s\n",
      "[CV] END ...max_depth=20, max_features=None, n_estimators=10; total time=   0.5s\n",
      "[CV] END ...max_depth=20, max_features=None, n_estimators=10; total time=   0.6s\n",
      "[CV] END ...max_depth=20, max_features=None, n_estimators=50; total time=   3.0s\n",
      "[CV] END ...max_depth=20, max_features=None, n_estimators=50; total time=   2.5s\n",
      "[CV] END ...max_depth=20, max_features=None, n_estimators=50; total time=   2.5s\n",
      "[CV] END ..max_depth=20, max_features=None, n_estimators=100; total time=   6.8s\n",
      "[CV] END ..max_depth=20, max_features=None, n_estimators=100; total time=   5.6s\n",
      "[CV] END ..max_depth=20, max_features=None, n_estimators=100; total time=   5.4s\n",
      "[CV] END ..max_depth=20, max_features=None, n_estimators=200; total time=  11.9s\n",
      "[CV] END ..max_depth=20, max_features=None, n_estimators=200; total time=  10.4s\n",
      "[CV] END ..max_depth=20, max_features=None, n_estimators=200; total time=   9.3s\n",
      "Fitting 3 folds for each of 48 candidates, totalling 144 fits\n",
      "[CV] END .....algorithm=auto, n_neighbors=3, weights=uniform; total time=   0.0s\n",
      "[CV] END .....algorithm=auto, n_neighbors=3, weights=uniform; total time=   0.0s\n",
      "[CV] END .....algorithm=auto, n_neighbors=3, weights=uniform; total time=   0.0s\n",
      "[CV] END ....algorithm=auto, n_neighbors=3, weights=distance; total time=   0.0s\n",
      "[CV] END ....algorithm=auto, n_neighbors=3, weights=distance; total time=   0.1s\n",
      "[CV] END ....algorithm=auto, n_neighbors=3, weights=distance; total time=   0.1s\n",
      "[CV] END .....algorithm=auto, n_neighbors=4, weights=uniform; total time=   0.1s\n",
      "[CV] END .....algorithm=auto, n_neighbors=4, weights=uniform; total time=   0.1s\n",
      "[CV] END .....algorithm=auto, n_neighbors=4, weights=uniform; total time=   0.1s\n",
      "[CV] END ....algorithm=auto, n_neighbors=4, weights=distance; total time=   0.1s\n",
      "[CV] END ....algorithm=auto, n_neighbors=4, weights=distance; total time=   0.1s\n",
      "[CV] END ....algorithm=auto, n_neighbors=4, weights=distance; total time=   0.1s\n",
      "[CV] END .....algorithm=auto, n_neighbors=5, weights=uniform; total time=   0.2s\n",
      "[CV] END .....algorithm=auto, n_neighbors=5, weights=uniform; total time=   0.2s\n",
      "[CV] END .....algorithm=auto, n_neighbors=5, weights=uniform; total time=   0.2s\n",
      "[CV] END ....algorithm=auto, n_neighbors=5, weights=distance; total time=   0.3s\n",
      "[CV] END ....algorithm=auto, n_neighbors=5, weights=distance; total time=   0.1s\n",
      "[CV] END ....algorithm=auto, n_neighbors=5, weights=distance; total time=   0.2s\n",
      "[CV] END .....algorithm=auto, n_neighbors=6, weights=uniform; total time=   0.2s\n",
      "[CV] END .....algorithm=auto, n_neighbors=6, weights=uniform; total time=   0.2s\n",
      "[CV] END .....algorithm=auto, n_neighbors=6, weights=uniform; total time=   0.2s\n",
      "[CV] END ....algorithm=auto, n_neighbors=6, weights=distance; total time=   0.2s\n",
      "[CV] END ....algorithm=auto, n_neighbors=6, weights=distance; total time=   0.1s\n",
      "[CV] END ....algorithm=auto, n_neighbors=6, weights=distance; total time=   0.2s\n",
      "[CV] END .....algorithm=auto, n_neighbors=7, weights=uniform; total time=   0.3s\n",
      "[CV] END .....algorithm=auto, n_neighbors=7, weights=uniform; total time=   0.3s\n",
      "[CV] END .....algorithm=auto, n_neighbors=7, weights=uniform; total time=   0.5s\n",
      "[CV] END ....algorithm=auto, n_neighbors=7, weights=distance; total time=   0.2s\n",
      "[CV] END ....algorithm=auto, n_neighbors=7, weights=distance; total time=   0.3s\n",
      "[CV] END ....algorithm=auto, n_neighbors=7, weights=distance; total time=   0.3s\n",
      "[CV] END .....algorithm=auto, n_neighbors=9, weights=uniform; total time=   0.2s\n",
      "[CV] END .....algorithm=auto, n_neighbors=9, weights=uniform; total time=   0.2s\n",
      "[CV] END .....algorithm=auto, n_neighbors=9, weights=uniform; total time=   0.2s\n",
      "[CV] END ....algorithm=auto, n_neighbors=9, weights=distance; total time=   0.2s\n",
      "[CV] END ....algorithm=auto, n_neighbors=9, weights=distance; total time=   0.3s\n",
      "[CV] END ....algorithm=auto, n_neighbors=9, weights=distance; total time=   0.3s\n",
      "[CV] END algorithm=ball_tree, n_neighbors=3, weights=uniform; total time=   5.6s\n",
      "[CV] END algorithm=ball_tree, n_neighbors=3, weights=uniform; total time=   4.5s\n",
      "[CV] END algorithm=ball_tree, n_neighbors=3, weights=uniform; total time=   3.9s\n",
      "[CV] END algorithm=ball_tree, n_neighbors=3, weights=distance; total time=   3.9s\n",
      "[CV] END algorithm=ball_tree, n_neighbors=3, weights=distance; total time=   3.8s\n",
      "[CV] END algorithm=ball_tree, n_neighbors=3, weights=distance; total time=   4.4s\n",
      "[CV] END algorithm=ball_tree, n_neighbors=4, weights=uniform; total time=   5.9s\n",
      "[CV] END algorithm=ball_tree, n_neighbors=4, weights=uniform; total time=   4.8s\n",
      "[CV] END algorithm=ball_tree, n_neighbors=4, weights=uniform; total time=   3.1s\n",
      "[CV] END algorithm=ball_tree, n_neighbors=4, weights=distance; total time=   3.3s\n",
      "[CV] END algorithm=ball_tree, n_neighbors=4, weights=distance; total time=   4.5s\n",
      "[CV] END algorithm=ball_tree, n_neighbors=4, weights=distance; total time=   2.9s\n",
      "[CV] END algorithm=ball_tree, n_neighbors=5, weights=uniform; total time=   3.7s\n",
      "[CV] END algorithm=ball_tree, n_neighbors=5, weights=uniform; total time=   3.3s\n",
      "[CV] END algorithm=ball_tree, n_neighbors=5, weights=uniform; total time=   3.1s\n",
      "[CV] END algorithm=ball_tree, n_neighbors=5, weights=distance; total time=   3.1s\n",
      "[CV] END algorithm=ball_tree, n_neighbors=5, weights=distance; total time=   3.0s\n",
      "[CV] END algorithm=ball_tree, n_neighbors=5, weights=distance; total time=   2.8s\n",
      "[CV] END algorithm=ball_tree, n_neighbors=6, weights=uniform; total time=   3.1s\n",
      "[CV] END algorithm=ball_tree, n_neighbors=6, weights=uniform; total time=   3.2s\n",
      "[CV] END algorithm=ball_tree, n_neighbors=6, weights=uniform; total time=   3.5s\n",
      "[CV] END algorithm=ball_tree, n_neighbors=6, weights=distance; total time=   2.8s\n",
      "[CV] END algorithm=ball_tree, n_neighbors=6, weights=distance; total time=   2.8s\n",
      "[CV] END algorithm=ball_tree, n_neighbors=6, weights=distance; total time=   3.9s\n",
      "[CV] END algorithm=ball_tree, n_neighbors=7, weights=uniform; total time=   3.6s\n",
      "[CV] END algorithm=ball_tree, n_neighbors=7, weights=uniform; total time=   3.8s\n",
      "[CV] END algorithm=ball_tree, n_neighbors=7, weights=uniform; total time=   3.6s\n",
      "[CV] END algorithm=ball_tree, n_neighbors=7, weights=distance; total time=   3.0s\n",
      "[CV] END algorithm=ball_tree, n_neighbors=7, weights=distance; total time=   3.1s\n",
      "[CV] END algorithm=ball_tree, n_neighbors=7, weights=distance; total time=   3.2s\n",
      "[CV] END algorithm=ball_tree, n_neighbors=9, weights=uniform; total time=   3.5s\n",
      "[CV] END algorithm=ball_tree, n_neighbors=9, weights=uniform; total time=   3.5s\n",
      "[CV] END algorithm=ball_tree, n_neighbors=9, weights=uniform; total time=   3.2s\n",
      "[CV] END algorithm=ball_tree, n_neighbors=9, weights=distance; total time=   3.2s\n",
      "[CV] END algorithm=ball_tree, n_neighbors=9, weights=distance; total time=   3.3s\n",
      "[CV] END algorithm=ball_tree, n_neighbors=9, weights=distance; total time=   3.0s\n",
      "[CV] END ..algorithm=kd_tree, n_neighbors=3, weights=uniform; total time=   1.1s\n",
      "[CV] END ..algorithm=kd_tree, n_neighbors=3, weights=uniform; total time=   1.1s\n",
      "[CV] END ..algorithm=kd_tree, n_neighbors=3, weights=uniform; total time=   1.1s\n",
      "[CV] END .algorithm=kd_tree, n_neighbors=3, weights=distance; total time=   0.7s\n",
      "[CV] END .algorithm=kd_tree, n_neighbors=3, weights=distance; total time=   0.9s\n",
      "[CV] END .algorithm=kd_tree, n_neighbors=3, weights=distance; total time=   0.8s\n",
      "[CV] END ..algorithm=kd_tree, n_neighbors=4, weights=uniform; total time=   1.3s\n",
      "[CV] END ..algorithm=kd_tree, n_neighbors=4, weights=uniform; total time=   1.5s\n",
      "[CV] END ..algorithm=kd_tree, n_neighbors=4, weights=uniform; total time=   1.3s\n",
      "[CV] END .algorithm=kd_tree, n_neighbors=4, weights=distance; total time=   1.0s\n",
      "[CV] END .algorithm=kd_tree, n_neighbors=4, weights=distance; total time=   0.9s\n",
      "[CV] END .algorithm=kd_tree, n_neighbors=4, weights=distance; total time=   1.3s\n",
      "[CV] END ..algorithm=kd_tree, n_neighbors=5, weights=uniform; total time=   1.5s\n",
      "[CV] END ..algorithm=kd_tree, n_neighbors=5, weights=uniform; total time=   1.4s\n",
      "[CV] END ..algorithm=kd_tree, n_neighbors=5, weights=uniform; total time=   1.6s\n",
      "[CV] END .algorithm=kd_tree, n_neighbors=5, weights=distance; total time=   1.3s\n",
      "[CV] END .algorithm=kd_tree, n_neighbors=5, weights=distance; total time=   1.2s\n",
      "[CV] END .algorithm=kd_tree, n_neighbors=5, weights=distance; total time=   0.9s\n",
      "[CV] END ..algorithm=kd_tree, n_neighbors=6, weights=uniform; total time=   1.4s\n",
      "[CV] END ..algorithm=kd_tree, n_neighbors=6, weights=uniform; total time=   1.4s\n",
      "[CV] END ..algorithm=kd_tree, n_neighbors=6, weights=uniform; total time=   1.8s\n",
      "[CV] END .algorithm=kd_tree, n_neighbors=6, weights=distance; total time=   1.3s\n",
      "[CV] END .algorithm=kd_tree, n_neighbors=6, weights=distance; total time=   1.4s\n",
      "[CV] END .algorithm=kd_tree, n_neighbors=6, weights=distance; total time=   1.2s\n",
      "[CV] END ..algorithm=kd_tree, n_neighbors=7, weights=uniform; total time=   1.6s\n",
      "[CV] END ..algorithm=kd_tree, n_neighbors=7, weights=uniform; total time=   2.1s\n",
      "[CV] END ..algorithm=kd_tree, n_neighbors=7, weights=uniform; total time=   1.9s\n",
      "[CV] END .algorithm=kd_tree, n_neighbors=7, weights=distance; total time=   1.3s\n",
      "[CV] END .algorithm=kd_tree, n_neighbors=7, weights=distance; total time=   0.9s\n",
      "[CV] END .algorithm=kd_tree, n_neighbors=7, weights=distance; total time=   0.9s\n",
      "[CV] END ..algorithm=kd_tree, n_neighbors=9, weights=uniform; total time=   1.1s\n",
      "[CV] END ..algorithm=kd_tree, n_neighbors=9, weights=uniform; total time=   1.1s\n",
      "[CV] END ..algorithm=kd_tree, n_neighbors=9, weights=uniform; total time=   1.1s\n",
      "[CV] END .algorithm=kd_tree, n_neighbors=9, weights=distance; total time=   1.0s\n",
      "[CV] END .algorithm=kd_tree, n_neighbors=9, weights=distance; total time=   1.0s\n",
      "[CV] END .algorithm=kd_tree, n_neighbors=9, weights=distance; total time=   1.0s\n",
      "[CV] END ....algorithm=brute, n_neighbors=3, weights=uniform; total time=   0.0s\n",
      "[CV] END ....algorithm=brute, n_neighbors=3, weights=uniform; total time=   0.0s\n",
      "[CV] END ....algorithm=brute, n_neighbors=3, weights=uniform; total time=   0.0s\n",
      "[CV] END ...algorithm=brute, n_neighbors=3, weights=distance; total time=   0.0s\n",
      "[CV] END ...algorithm=brute, n_neighbors=3, weights=distance; total time=   0.0s\n",
      "[CV] END ...algorithm=brute, n_neighbors=3, weights=distance; total time=   0.0s\n",
      "[CV] END ....algorithm=brute, n_neighbors=4, weights=uniform; total time=   0.0s\n",
      "[CV] END ....algorithm=brute, n_neighbors=4, weights=uniform; total time=   0.0s\n",
      "[CV] END ....algorithm=brute, n_neighbors=4, weights=uniform; total time=   0.0s\n",
      "[CV] END ...algorithm=brute, n_neighbors=4, weights=distance; total time=   0.0s\n",
      "[CV] END ...algorithm=brute, n_neighbors=4, weights=distance; total time=   0.0s\n",
      "[CV] END ...algorithm=brute, n_neighbors=4, weights=distance; total time=   0.0s\n",
      "[CV] END ....algorithm=brute, n_neighbors=5, weights=uniform; total time=   0.0s\n",
      "[CV] END ....algorithm=brute, n_neighbors=5, weights=uniform; total time=   0.0s\n",
      "[CV] END ....algorithm=brute, n_neighbors=5, weights=uniform; total time=   0.0s\n",
      "[CV] END ...algorithm=brute, n_neighbors=5, weights=distance; total time=   0.0s\n",
      "[CV] END ...algorithm=brute, n_neighbors=5, weights=distance; total time=   0.0s\n",
      "[CV] END ...algorithm=brute, n_neighbors=5, weights=distance; total time=   0.0s\n",
      "[CV] END ....algorithm=brute, n_neighbors=6, weights=uniform; total time=   0.0s\n",
      "[CV] END ....algorithm=brute, n_neighbors=6, weights=uniform; total time=   0.0s\n",
      "[CV] END ....algorithm=brute, n_neighbors=6, weights=uniform; total time=   0.0s\n",
      "[CV] END ...algorithm=brute, n_neighbors=6, weights=distance; total time=   0.1s\n",
      "[CV] END ...algorithm=brute, n_neighbors=6, weights=distance; total time=   0.0s\n",
      "[CV] END ...algorithm=brute, n_neighbors=6, weights=distance; total time=   0.0s\n",
      "[CV] END ....algorithm=brute, n_neighbors=7, weights=uniform; total time=   0.0s\n",
      "[CV] END ....algorithm=brute, n_neighbors=7, weights=uniform; total time=   0.0s\n",
      "[CV] END ....algorithm=brute, n_neighbors=7, weights=uniform; total time=   0.0s\n",
      "[CV] END ...algorithm=brute, n_neighbors=7, weights=distance; total time=   0.0s\n",
      "[CV] END ...algorithm=brute, n_neighbors=7, weights=distance; total time=   0.0s\n",
      "[CV] END ...algorithm=brute, n_neighbors=7, weights=distance; total time=   0.0s\n",
      "[CV] END ....algorithm=brute, n_neighbors=9, weights=uniform; total time=   0.0s\n",
      "[CV] END ....algorithm=brute, n_neighbors=9, weights=uniform; total time=   0.0s\n",
      "[CV] END ....algorithm=brute, n_neighbors=9, weights=uniform; total time=   0.0s\n",
      "[CV] END ...algorithm=brute, n_neighbors=9, weights=distance; total time=   0.0s\n",
      "[CV] END ...algorithm=brute, n_neighbors=9, weights=distance; total time=   0.0s\n",
      "[CV] END ...algorithm=brute, n_neighbors=9, weights=distance; total time=   0.0s\n",
      "best params for xgboost\n",
      "{'min_child_weight': 1, 'max_depth': 9}\n",
      "best params for random_forest\n",
      "{'n_estimators': 100, 'max_features': 'sqrt', 'max_depth': None}\n",
      "best params for KNN\n",
      "{'weights': 'distance', 'n_neighbors': 3, 'algorithm': 'auto'}\n"
     ]
    }
   ],
   "source": [
    "from sklearn.model_selection import GridSearchCV, RandomizedSearchCV\n",
    "\n",
    "model_param = {}\n",
    "\n",
    "for name, model, params in grid_search_models:\n",
    "    grid = RandomizedSearchCV(estimator=model,\n",
    "                        param_distributions=params,\n",
    "                        cv=3, \n",
    "                        verbose=2,\n",
    "                        n_iter=100,\n",
    "                        n_jobs=1)\n",
    "    grid.fit(X_new, y_new)\n",
    "    model_param[name] = grid.best_params_\n",
    "\n",
    "for model_name in model_param:\n",
    "    print(f'best params for {model_name}')\n",
    "    print(model_param[model_name])"
   ]
  },
  {
   "cell_type": "code",
   "execution_count": 134,
   "metadata": {},
   "outputs": [
    {
     "name": "stdout",
     "output_type": "stream",
     "text": [
      "xgboost\n",
      "Model performance for Training set\n",
      "- Accuracy: 0.9990\n",
      "- F1 score: 0.9991\n",
      "- Precision: 0.9984\n",
      "- Recall: 0.9997\n",
      "- Roc Auc Score: 0.9989\n",
      "----------------------------------\n",
      "Model performance for Test set\n",
      "- Accuracy: 0.9395\n",
      "- F1 score: 0.9440\n",
      "- Precision: 0.9424\n",
      "- Recall: 0.9455\n",
      "- Roc Auc Score: 0.9390\n",
      "===================================\n",
      "\n",
      "\n",
      "random_forest\n",
      "Model performance for Training set\n",
      "- Accuracy: 1.0000\n",
      "- F1 score: 1.0000\n",
      "- Precision: 1.0000\n",
      "- Recall: 1.0000\n",
      "- Roc Auc Score: 1.0000\n",
      "----------------------------------\n",
      "Model performance for Test set\n",
      "- Accuracy: 0.9441\n",
      "- F1 score: 0.9483\n",
      "- Precision: 0.9458\n",
      "- Recall: 0.9509\n",
      "- Roc Auc Score: 0.9435\n",
      "===================================\n",
      "\n",
      "\n",
      "KNN\n",
      "Model performance for Training set\n",
      "- Accuracy: 1.0000\n",
      "- F1 score: 1.0000\n",
      "- Precision: 1.0000\n",
      "- Recall: 1.0000\n",
      "- Roc Auc Score: 1.0000\n",
      "----------------------------------\n",
      "Model performance for Test set\n",
      "- Accuracy: 0.9642\n",
      "- F1 score: 0.9673\n",
      "- Precision: 0.9534\n",
      "- Recall: 0.9817\n",
      "- Roc Auc Score: 0.9627\n",
      "===================================\n",
      "\n",
      "\n"
     ]
    }
   ],
   "source": [
    "best_models = {\n",
    "    'xgboost': XGBClassifier(**model_param['xgboost']),\n",
    "    'random_forest': RandomForestClassifier(**model_param['random_forest']),\n",
    "    'KNN': KNeighborsClassifier(**model_param['KNN'], n_jobs=-1), \n",
    "}\n",
    "tuned_report = evaluate_model(X=X_new, y=y_new, models=best_models)"
   ]
  },
  {
   "cell_type": "code",
   "execution_count": 135,
   "metadata": {},
   "outputs": [
    {
     "data": {
      "text/html": [
       "<div>\n",
       "<style scoped>\n",
       "    .dataframe tbody tr th:only-of-type {\n",
       "        vertical-align: middle;\n",
       "    }\n",
       "\n",
       "    .dataframe tbody tr th {\n",
       "        vertical-align: top;\n",
       "    }\n",
       "\n",
       "    .dataframe thead th {\n",
       "        text-align: right;\n",
       "    }\n",
       "</style>\n",
       "<table border=\"1\" class=\"dataframe\">\n",
       "  <thead>\n",
       "    <tr style=\"text-align: right;\">\n",
       "      <th></th>\n",
       "      <th>model</th>\n",
       "      <th>accuracy_score</th>\n",
       "    </tr>\n",
       "  </thead>\n",
       "  <tbody>\n",
       "    <tr>\n",
       "      <th>2</th>\n",
       "      <td>KNN</td>\n",
       "      <td>0.964203</td>\n",
       "    </tr>\n",
       "    <tr>\n",
       "      <th>1</th>\n",
       "      <td>random_forest</td>\n",
       "      <td>0.944121</td>\n",
       "    </tr>\n",
       "    <tr>\n",
       "      <th>0</th>\n",
       "      <td>xgboost</td>\n",
       "      <td>0.939464</td>\n",
       "    </tr>\n",
       "  </tbody>\n",
       "</table>\n",
       "</div>"
      ],
      "text/plain": [
       "           model  accuracy_score\n",
       "2            KNN        0.964203\n",
       "1  random_forest        0.944121\n",
       "0        xgboost        0.939464"
      ]
     },
     "execution_count": 135,
     "metadata": {},
     "output_type": "execute_result"
    }
   ],
   "source": [
    "tuned_report"
   ]
  },
  {
   "cell_type": "markdown",
   "metadata": {},
   "source": [
    "### KNN turns out to best model for our data"
   ]
  },
  {
   "cell_type": "code",
   "execution_count": 136,
   "metadata": {},
   "outputs": [
    {
     "name": "stdout",
     "output_type": "stream",
     "text": [
      "FINAL MODEL 'KNN'\n",
      "Accuracy Score value: 0.9642\n",
      "              precision    recall  f1-score   support\n",
      "\n",
      "           0       0.98      0.94      0.96      1583\n",
      "           1       0.95      0.98      0.97      1853\n",
      "\n",
      "    accuracy                           0.96      3436\n",
      "   macro avg       0.97      0.96      0.96      3436\n",
      "weighted avg       0.96      0.96      0.96      3436\n",
      "\n"
     ]
    }
   ],
   "source": [
    "best_model = KNeighborsClassifier(**model_param['KNN'])\n",
    "best_model = best_model.fit(X_train,y_train)\n",
    "y_pred = best_model.predict(X_test)\n",
    "score = accuracy_score(y_test,y_pred)\n",
    "cr = classification_report(y_test,y_pred)\n",
    "\n",
    "print(\"FINAL MODEL 'KNN'\")\n",
    "print (\"Accuracy Score value: {:.4f}\".format(score))\n",
    "print (cr)"
   ]
  },
  {
   "cell_type": "code",
   "execution_count": 137,
   "metadata": {},
   "outputs": [
    {
     "data": {
      "text/plain": [
       "<sklearn.metrics._plot.confusion_matrix.ConfusionMatrixDisplay at 0x10702015f70>"
      ]
     },
     "execution_count": 137,
     "metadata": {},
     "output_type": "execute_result"
    },
    {
     "data": {
      "image/png": "[encoded data removed]",
      "text/plain": [
       "<Figure size 640x480 with 2 Axes>"
      ]
     },
     "metadata": {},
     "output_type": "display_data"
    }
   ],
   "source": [
    "\n",
    "ConfusionMatrixDisplay.from_estimator(best_model, X_test, y_test)"
   ]
  },
  {
   "cell_type": "code",
   "execution_count": 138,
   "metadata": {},
   "outputs": [],
   "source": [
    "import pickle\n",
    "\n",
    "with open('model.pkl', 'wb') as f:\n",
    "    pickle.dump(best_model, f)"
   ]
  },
  {
   "cell_type": "code",
   "execution_count": null,
   "metadata": {},
   "outputs": [],
   "source": []
  }
 ],
 "metadata": {
  "kernelspec": {
   "display_name": "visa",
   "language": "python",
   "name": "python3"
  },
  "language_info": {
   "codemirror_mode": {
    "name": "ipython",
    "version": 3
   },
   "file_extension": ".py",
   "mimetype": "text/x-python",
   "name": "python",
   "nbconvert_exporter": "python",
   "pygments_lexer": "ipython3",
   "version": "3.12.4"
  }
 },
 "nbformat": 4,
 "nbformat_minor": 2
}
